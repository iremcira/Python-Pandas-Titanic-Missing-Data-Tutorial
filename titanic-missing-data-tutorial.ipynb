{
 "cells": [
  {
   "cell_type": "code",
   "execution_count": 1,
   "id": "f03d0298",
   "metadata": {},
   "outputs": [],
   "source": [
    "import pandas as pd"
   ]
  },
  {
   "cell_type": "code",
   "execution_count": 2,
   "id": "bdd08d9b",
   "metadata": {},
   "outputs": [
    {
     "name": "stdout",
     "output_type": "stream",
     "text": [
      "CSV dosyası başarıyla okunarak DataFrame'e yüklendi!\n"
     ]
    }
   ],
   "source": [
    "df = pd.read_csv('gender_submission.csv')\n",
    "print(\"CSV dosyası başarıyla okunarak DataFrame'e yüklendi!\")"
   ]
  },
  {
   "cell_type": "code",
   "execution_count": 3,
   "id": "eb4593e6",
   "metadata": {},
   "outputs": [
    {
     "name": "stdout",
     "output_type": "stream",
     "text": [
      "\n",
      "DataFrame'in ilk 5 satırı:\n",
      "   PassengerId  Survived\n",
      "0          892         0\n",
      "1          893         1\n",
      "2          894         0\n",
      "3          895         0\n",
      "4          896         1\n",
      "\n",
      "DataFrame hakkında genel bilgi (df.info()):\n",
      "<class 'pandas.core.frame.DataFrame'>\n",
      "RangeIndex: 418 entries, 0 to 417\n",
      "Data columns (total 2 columns):\n",
      " #   Column       Non-Null Count  Dtype\n",
      "---  ------       --------------  -----\n",
      " 0   PassengerId  418 non-null    int64\n",
      " 1   Survived     418 non-null    int64\n",
      "dtypes: int64(2)\n",
      "memory usage: 6.7 KB\n",
      "\n",
      "DataFrame boyutu (satır, sütun): (418, 2)\n",
      "\n",
      "DataFrame sütun isimleri:\n",
      "Index(['PassengerId', 'Survived'], dtype='object')\n"
     ]
    }
   ],
   "source": [
    "# DataFrame'in ilk 5 satırını görüntüleyin\n",
    "print(\"\\nDataFrame'in ilk 5 satırı:\")\n",
    "print(df.head())\n",
    "\n",
    "# DataFrame hakkında özet bilgi (sütun tipleri ve eksik olmayan değerler)\n",
    "print(\"\\nDataFrame hakkında genel bilgi (df.info()):\")\n",
    "df.info()\n",
    "\n",
    "# DataFrame'in boyutunu (satır ve sütun sayısı) görüntüleyin\n",
    "print(f\"\\nDataFrame boyutu (satır, sütun): {df.shape}\")\n",
    "\n",
    "# DataFrame'deki sütun isimlerini görüntüleyin\n",
    "print(\"\\nDataFrame sütun isimleri:\")\n",
    "print(df.columns)"
   ]
  }
 ],
 "metadata": {
  "kernelspec": {
   "display_name": ".venv",
   "language": "python",
   "name": "python3"
  },
  "language_info": {
   "codemirror_mode": {
    "name": "ipython",
    "version": 3
   },
   "file_extension": ".py",
   "mimetype": "text/x-python",
   "name": "python",
   "nbconvert_exporter": "python",
   "pygments_lexer": "ipython3",
   "version": "3.12.3"
  }
 },
 "nbformat": 4,
 "nbformat_minor": 5
}
